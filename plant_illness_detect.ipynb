{
  "nbformat": 4,
  "nbformat_minor": 0,
  "metadata": {
    "colab": {
      "provenance": [],
      "gpuType": "T4",
      "include_colab_link": true
    },
    "kernelspec": {
      "name": "python3",
      "display_name": "Python 3"
    },
    "language_info": {
      "name": "python"
    },
    "accelerator": "GPU"
  },
  "cells": [
    {
      "cell_type": "markdown",
      "metadata": {
        "id": "view-in-github",
        "colab_type": "text"
      },
      "source": [
        "<a href=\"https://colab.research.google.com/github/s25337/plant-disease-ai/blob/main/plant_illness_detect.ipynb\" target=\"_parent\"><img src=\"https://colab.research.google.com/assets/colab-badge.svg\" alt=\"Open In Colab\"/></a>"
      ]
    },
    {
      "cell_type": "code",
      "execution_count": 2,
      "metadata": {
        "colab": {
          "base_uri": "https://localhost:8080/"
        },
        "id": "1ZJSeGqQS4S_",
        "outputId": "55d98286-da2f-4098-a18d-badae5af1980"
      },
      "outputs": [
        {
          "output_type": "stream",
          "name": "stdout",
          "text": [
            "Downloading from https://www.kaggle.com/api/v1/datasets/download/vipoooool/new-plant-diseases-dataset?dataset_version_number=2...\n"
          ]
        },
        {
          "output_type": "stream",
          "name": "stderr",
          "text": [
            "100%|██████████| 2.70G/2.70G [01:21<00:00, 35.6MB/s]"
          ]
        },
        {
          "output_type": "stream",
          "name": "stdout",
          "text": [
            "Extracting files...\n"
          ]
        },
        {
          "output_type": "stream",
          "name": "stderr",
          "text": [
            "\n"
          ]
        },
        {
          "output_type": "stream",
          "name": "stdout",
          "text": [
            "Dataset CSV has been created at train_labels.csv.\n",
            "Dataset CSV has been created at valid_labels.csv.\n"
          ]
        }
      ],
      "source": [
        "import kagglehub\n",
        "import os\n",
        "import pandas as pd\n",
        "\n",
        "dataset_path = kagglehub.dataset_download(\"vipoooool/new-plant-diseases-dataset\")\n",
        "train_dir = os.path.join(dataset_path, \"New Plant Diseases Dataset(Augmented)/New Plant Diseases Dataset(Augmented)\")\n",
        "\n",
        "dataset_path_train = os.path.join(train_dir, \"train\")\n",
        "dataset_path_valid = os.path.join(train_dir, \"valid\")\n",
        "\n",
        "def create_dataset_csv(dataset_dir, output_csv):\n",
        "    image_paths = []\n",
        "    labels = []\n",
        "\n",
        "    for subfolder in os.listdir(dataset_dir):\n",
        "        subfolder_path = os.path.join(dataset_dir, subfolder)\n",
        "\n",
        "        if os.path.isdir(subfolder_path):\n",
        "            label = 'healthy' if subfolder.endswith('healthy') else 'not_healthy'\n",
        "\n",
        "            for file in os.listdir(subfolder_path):\n",
        "                if file.endswith(('.jpg', '.png', '.jpeg')):\n",
        "                    image_path = os.path.join(subfolder_path, file)\n",
        "\n",
        "                    image_paths.append(image_path)\n",
        "                    labels.append(label)\n",
        "\n",
        "    data = pd.DataFrame({\n",
        "        'image_path': image_paths,\n",
        "        'label': labels\n",
        "    })\n",
        "\n",
        "    data.to_csv(output_csv, index=False)\n",
        "    print(f\"Dataset CSV has been created at {output_csv}.\")\n",
        "\n",
        "\n",
        "create_dataset_csv(dataset_path_train, 'train_labels.csv')\n",
        "create_dataset_csv(dataset_path_valid, 'valid_labels.csv')"
      ]
    },
    {
      "cell_type": "code",
      "source": [
        "import pandas as pd\n",
        "import torch\n",
        "from torch.utils.data import DataLoader, Dataset\n",
        "from torchvision import transforms\n",
        "from PIL import Image\n",
        "import torch.nn as nn\n",
        "import torch.optim as optim"
      ],
      "metadata": {
        "id": "LxV_-k2oZRra"
      },
      "execution_count": 3,
      "outputs": []
    },
    {
      "cell_type": "code",
      "source": [
        "class PlantDiseaseDataset(Dataset):\n",
        "    def __init__(self, csv_file, transform=None):\n",
        "        self.data_frame = pd.read_csv(csv_file)\n",
        "        self.transform = transform\n",
        "\n",
        "    def __len__(self):\n",
        "        return len(self.data_frame)\n",
        "\n",
        "    def __getitem__(self, idx):\n",
        "        img_path = self.data_frame.iloc[idx, 0]\n",
        "        label = self.data_frame.iloc[idx, 1]\n",
        "        img = Image.open(img_path).convert(\"RGB\")\n",
        "\n",
        "        # Convert label to integer (1 = healthy, 0 = not_healthy)\n",
        "        label = 1 if label == 'healthy' else 0\n",
        "\n",
        "        if self.transform:\n",
        "            img = self.transform(img)\n",
        "\n",
        "        return img, label\n",
        "\n",
        "# Define image transformations\n",
        "transform = transforms.Compose([\n",
        "    transforms.Resize((128, 128)),\n",
        "    transforms.ToTensor(),\n",
        "    transforms.Normalize(mean=[0.485, 0.456, 0.406], std=[0.229, 0.224, 0.225])\n",
        "])"
      ],
      "metadata": {
        "id": "JTJ1h22YUpli"
      },
      "execution_count": 4,
      "outputs": []
    },
    {
      "cell_type": "code",
      "source": [
        "train_dataset = PlantDiseaseDataset(csv_file='train_labels.csv', transform=transform)\n",
        "valid_dataset = PlantDiseaseDataset(csv_file='valid_labels.csv', transform=transform)\n",
        "\n",
        "# Create data loaders for batch processing\n",
        "train_loader = DataLoader(train_dataset, batch_size=32, shuffle=True)\n",
        "valid_loader = DataLoader(valid_dataset, batch_size=32, shuffle=False)"
      ],
      "metadata": {
        "id": "7eYlmS0GeKb4"
      },
      "execution_count": 5,
      "outputs": []
    },
    {
      "cell_type": "code",
      "source": [
        "def train_model(model, train_loader, valid_loader, num_epochs=10, lr=0.001, device='cuda', model_path=\"content/default.pth\"):\n",
        "\n",
        "    criterion = nn.CrossEntropyLoss()\n",
        "    optimizer = optim.Adam(model.parameters(), lr=lr)\n",
        "\n",
        "    for epoch in range(num_epochs):\n",
        "        model.train()\n",
        "        running_loss = 0.0\n",
        "        correct = 0\n",
        "        total = 0\n",
        "\n",
        "        for images, labels in train_loader:\n",
        "            images, labels = images.to(device), labels.to(device)\n",
        "            optimizer.zero_grad()\n",
        "\n",
        "            outputs = model(images)\n",
        "            loss = criterion(outputs, labels)\n",
        "\n",
        "            loss.backward()\n",
        "            optimizer.step()\n",
        "\n",
        "            running_loss += loss.item()\n",
        "\n",
        "            _, predicted = torch.max(outputs.data, 1)\n",
        "            total += labels.size(0)\n",
        "            correct += (predicted == labels).sum().item()\n",
        "\n",
        "        train_loss = running_loss / len(train_loader)\n",
        "        train_accuracy = 100 * correct / total\n",
        "        print(f\"Epoch [{epoch+1}/{num_epochs}], Loss: {train_loss:.4f}, Accuracy: {train_accuracy:.2f}%\")\n",
        "\n",
        "        model.eval()\n",
        "        val_correct = 0\n",
        "        val_total = 0\n",
        "        with torch.no_grad():\n",
        "            for images, labels in valid_loader:\n",
        "                images, labels = images.to(device), labels.to(device)\n",
        "                outputs = model(images)\n",
        "                _, predicted = torch.max(outputs.data, 1)\n",
        "                val_total += labels.size(0)\n",
        "                val_correct += (predicted == labels).sum().item()\n",
        "\n",
        "        val_accuracy = 100 * val_correct / val_total\n",
        "        print(f\"Validation Accuracy: {val_accuracy:.2f}%\")\n",
        "    model_path = model_path\n",
        "    torch.save(model.state_dict(), model_path)\n",
        "    print(f\"Model saved to {model_path}\")\n",
        "    return model"
      ],
      "metadata": {
        "id": "pYso-mjLen5r"
      },
      "execution_count": 6,
      "outputs": []
    },
    {
      "cell_type": "code",
      "source": [
        "class RainforestNN(nn.Module):\n",
        "    def __init__(self):\n",
        "        super(RainforestNN, self).__init__()\n",
        "        self.features = nn.Sequential(\n",
        "            nn.Conv2d(3, 32, kernel_size=3, stride=1, padding=1),\n",
        "            nn.ReLU(),\n",
        "            nn.MaxPool2d(kernel_size=2, stride=2),\n",
        "            nn.Conv2d(32, 64, kernel_size=3, stride=1, padding=1),\n",
        "            nn.ReLU(),\n",
        "            nn.MaxPool2d(kernel_size=2, stride=2),\n",
        "            nn.Conv2d(64, 128, kernel_size=3, stride=1, padding=1),\n",
        "            nn.ReLU(),\n",
        "            nn.MaxPool2d(kernel_size=2, stride=2)\n",
        "        )\n",
        "        self.classifier = nn.Sequential(\n",
        "            nn.Linear(128 * 16 * 16, 256),\n",
        "            nn.ReLU(),\n",
        "            nn.Dropout(0.5),\n",
        "            nn.Linear(256, 2)\n",
        "        )\n",
        "\n",
        "    def forward(self, x):\n",
        "        x = self.features(x)\n",
        "        x = x.view(-1, 128 * 16 * 16)\n",
        "        x = self.classifier(x)\n",
        "        return x"
      ],
      "metadata": {
        "id": "JtybbdCupEau"
      },
      "execution_count": 7,
      "outputs": []
    },
    {
      "cell_type": "code",
      "source": [
        "os.makedirs(os.path.dirname(\"content/rain_forest.pth\"), exist_ok=True)"
      ],
      "metadata": {
        "id": "B0Asbv1Nq_WU"
      },
      "execution_count": 8,
      "outputs": []
    },
    {
      "cell_type": "code",
      "source": [
        "model_rain_forest = RainforestNN()\n",
        "device = torch.device(\"cuda\" if torch.cuda.is_available() else \"cpu\")\n",
        "model = model_rain_forest.to(device)\n",
        "rain_forest_trained = train_model(model_rain_forest, train_loader, valid_loader, num_epochs=10, lr=0.001, device='cuda', model_path=\"content/rain_forest.pth\")"
      ],
      "metadata": {
        "colab": {
          "base_uri": "https://localhost:8080/"
        },
        "id": "pt1XlrU1l_RL",
        "outputId": "0f8f563c-3a66-43d7-b1e1-9e09526bfa40"
      },
      "execution_count": 9,
      "outputs": [
        {
          "output_type": "stream",
          "name": "stdout",
          "text": [
            "Epoch [1/10], Loss: 0.1259, Accuracy: 95.83%\n",
            "Validation Accuracy: 98.83%\n",
            "Epoch [2/10], Loss: 0.0426, Accuracy: 99.10%\n",
            "Validation Accuracy: 99.33%\n",
            "Epoch [3/10], Loss: 0.0502, Accuracy: 98.57%\n",
            "Validation Accuracy: 99.50%\n",
            "Epoch [4/10], Loss: 0.0276, Accuracy: 99.43%\n",
            "Validation Accuracy: 99.67%\n",
            "Epoch [5/10], Loss: 0.0276, Accuracy: 99.59%\n",
            "Validation Accuracy: 99.67%\n",
            "Epoch [6/10], Loss: 0.0525, Accuracy: 99.14%\n",
            "Validation Accuracy: 98.83%\n",
            "Epoch [7/10], Loss: 0.0284, Accuracy: 99.63%\n",
            "Validation Accuracy: 99.50%\n",
            "Epoch [8/10], Loss: 0.0305, Accuracy: 99.10%\n",
            "Validation Accuracy: 99.33%\n",
            "Epoch [9/10], Loss: 0.0437, Accuracy: 98.98%\n",
            "Validation Accuracy: 96.99%\n",
            "Epoch [10/10], Loss: 0.0189, Accuracy: 99.51%\n",
            "Validation Accuracy: 99.83%\n",
            "Model saved to content/rain_forest.pth\n"
          ]
        }
      ]
    },
    {
      "cell_type": "code",
      "source": [
        "os.makedirs(os.path.dirname(\"content/cnn.pth\"), exist_ok=True)"
      ],
      "metadata": {
        "id": "ngpXrrSZqDjQ"
      },
      "execution_count": 10,
      "outputs": []
    },
    {
      "cell_type": "code",
      "source": [
        "class SimpleCNN(nn.Module):\n",
        "    def __init__(self):\n",
        "        super(SimpleCNN, self).__init__()\n",
        "        self.conv1 = nn.Conv2d(3, 16, kernel_size=3, stride=1, padding=1)\n",
        "        self.pool = nn.MaxPool2d(kernel_size=2, stride=2, padding=0)\n",
        "        self.conv2 = nn.Conv2d(16, 32, kernel_size=3, stride=1, padding=1)\n",
        "        self.fc1 = nn.Linear(32 * 32 * 32, 128)\n",
        "        self.fc2 = nn.Linear(128, 2)\n",
        "\n",
        "    def forward(self, x):\n",
        "        x = self.pool(torch.relu(self.conv1(x)))\n",
        "        x = self.pool(torch.relu(self.conv2(x)))\n",
        "        x = x.view(-1, 32 * 32 * 32)\n",
        "        x = torch.relu(self.fc1(x))\n",
        "        x = self.fc2(x)\n",
        "        return x"
      ],
      "metadata": {
        "id": "yiWXy-TasnTd"
      },
      "execution_count": 11,
      "outputs": []
    },
    {
      "cell_type": "code",
      "source": [
        "model_cnn = SimpleCNN()\n",
        "model = model_cnn.to(device)\n",
        "rain_forest_trained = train_model(model_cnn, train_loader, valid_loader, num_epochs=10, lr=0.001, device='cuda', model_path=\"content/cnn.pth\")"
      ],
      "metadata": {
        "colab": {
          "base_uri": "https://localhost:8080/"
        },
        "id": "MF9M1AtJspiJ",
        "outputId": "96b4417f-c06b-46f9-f789-6a47f71b35fe"
      },
      "execution_count": 12,
      "outputs": [
        {
          "output_type": "stream",
          "name": "stdout",
          "text": [
            "Epoch [1/10], Loss: 0.1404, Accuracy: 94.73%\n",
            "Validation Accuracy: 99.00%\n",
            "Epoch [2/10], Loss: 0.0168, Accuracy: 99.55%\n",
            "Validation Accuracy: 99.50%\n",
            "Epoch [3/10], Loss: 0.0140, Accuracy: 99.51%\n",
            "Validation Accuracy: 99.67%\n",
            "Epoch [4/10], Loss: 0.0076, Accuracy: 99.84%\n",
            "Validation Accuracy: 99.67%\n",
            "Epoch [5/10], Loss: 0.0028, Accuracy: 99.88%\n",
            "Validation Accuracy: 99.67%\n",
            "Epoch [6/10], Loss: 0.0004, Accuracy: 100.00%\n",
            "Validation Accuracy: 99.50%\n",
            "Epoch [7/10], Loss: 0.0004, Accuracy: 100.00%\n",
            "Validation Accuracy: 99.67%\n",
            "Epoch [8/10], Loss: 0.0001, Accuracy: 100.00%\n",
            "Validation Accuracy: 99.67%\n",
            "Epoch [9/10], Loss: 0.0001, Accuracy: 100.00%\n",
            "Validation Accuracy: 99.67%\n",
            "Epoch [10/10], Loss: 0.0000, Accuracy: 100.00%\n",
            "Validation Accuracy: 99.67%\n",
            "Model saved to content/cnn.pth\n"
          ]
        }
      ]
    },
    {
      "cell_type": "code",
      "source": [
        "import matplotlib.pyplot as plt\n",
        "import seaborn as sns\n",
        "from sklearn.metrics import confusion_matrix"
      ],
      "metadata": {
        "id": "BNF96nQNtlPd"
      },
      "execution_count": 13,
      "outputs": []
    },
    {
      "cell_type": "code",
      "source": [
        "loaded_model_rain_forest = RainforestNN()  # Create a new instance of the model\n",
        "loaded_model_rain_forest.load_state_dict(torch.load(\"content/rain_forest.pth\"))  # Load the saved weights\n",
        "loaded_model_rain_forest = loaded_model_rain_forest.to(device)  # Move the loaded model to the device\n",
        "loaded_model_rain_forest.eval()  # Set the model to evaluation mode\n",
        "loaded_model_cnn = SimpleCNN()  # Create a new instance of the model\n",
        "loaded_model_cnn.load_state_dict(torch.load(\"content/cnn.pth\"))  # Load the saved weights\n",
        "loaded_model_cnn = loaded_model_cnn.to(device)  # Move the loaded model to the device\n",
        "loaded_model_cnn.eval()  # Set the model to evaluation mode\n",
        "test_loader = valid_loader"
      ],
      "metadata": {
        "colab": {
          "base_uri": "https://localhost:8080/"
        },
        "id": "7xEI4vaQxhQp",
        "outputId": "9fc53b60-7552-478c-8bb1-bc99fa6a73c6"
      },
      "execution_count": 14,
      "outputs": [
        {
          "output_type": "stream",
          "name": "stderr",
          "text": [
            "<ipython-input-14-f434b103d4cb>:2: FutureWarning: You are using `torch.load` with `weights_only=False` (the current default value), which uses the default pickle module implicitly. It is possible to construct malicious pickle data which will execute arbitrary code during unpickling (See https://github.com/pytorch/pytorch/blob/main/SECURITY.md#untrusted-models for more details). In a future release, the default value for `weights_only` will be flipped to `True`. This limits the functions that could be executed during unpickling. Arbitrary objects will no longer be allowed to be loaded via this mode unless they are explicitly allowlisted by the user via `torch.serialization.add_safe_globals`. We recommend you start setting `weights_only=True` for any use case where you don't have full control of the loaded file. Please open an issue on GitHub for any issues related to this experimental feature.\n",
            "  loaded_model_rain_forest.load_state_dict(torch.load(\"content/rain_forest.pth\"))  # Load the saved weights\n",
            "<ipython-input-14-f434b103d4cb>:6: FutureWarning: You are using `torch.load` with `weights_only=False` (the current default value), which uses the default pickle module implicitly. It is possible to construct malicious pickle data which will execute arbitrary code during unpickling (See https://github.com/pytorch/pytorch/blob/main/SECURITY.md#untrusted-models for more details). In a future release, the default value for `weights_only` will be flipped to `True`. This limits the functions that could be executed during unpickling. Arbitrary objects will no longer be allowed to be loaded via this mode unless they are explicitly allowlisted by the user via `torch.serialization.add_safe_globals`. We recommend you start setting `weights_only=True` for any use case where you don't have full control of the loaded file. Please open an issue on GitHub for any issues related to this experimental feature.\n",
            "  loaded_model_cnn.load_state_dict(torch.load(\"content/cnn.pth\"))  # Load the saved weights\n"
          ]
        }
      ]
    },
    {
      "cell_type": "code",
      "source": [
        "y_pred_rain_forest = []\n",
        "y_true_rain_forest = []\n",
        "for images, labels in test_loader:\n",
        "  images = images.to(device)  # Move images to the same device as the model\n",
        "  labels = labels.to(device)\n",
        "  outputs = loaded_model_rain_forest(images)\n",
        "  _, predicted = torch.max(outputs, 1)\n",
        "  y_pred_rain_forest.extend(predicted.tolist())\n",
        "  y_true_rain_forest.extend(labels.tolist())\n",
        "\n",
        "# Uzyskaj predykcje z model2\n",
        "y_pred_cnn = []\n",
        "y_true_cnn = []\n",
        "for images, labels in test_loader:\n",
        "  images = images.to(device)  # Move images to the same device as the model\n",
        "  labels = labels.to(device)\n",
        "  outputs = loaded_model_cnn(images)\n",
        "  _, predicted = torch.max(outputs, 1)\n",
        "  y_pred_cnn.extend(predicted.tolist())\n",
        "  y_true_cnn.extend(labels.tolist())"
      ],
      "metadata": {
        "id": "ehno5oddx3fb"
      },
      "execution_count": 15,
      "outputs": []
    },
    {
      "cell_type": "code",
      "source": [
        "cm1 = confusion_matrix(y_true_rain_forest, y_pred_rain_forest)\n",
        "\n",
        "# Macierz błędów dla model2\n",
        "cm2 = confusion_matrix(y_true_cnn, y_pred_cnn)"
      ],
      "metadata": {
        "id": "-kNBRWCI05gF"
      },
      "execution_count": 16,
      "outputs": []
    },
    {
      "cell_type": "code",
      "source": [
        "plt.figure(figsize=(8, 6))\n",
        "sns.heatmap(cm1, annot=True, fmt=\"d\", cmap=\"RdPu\")\n",
        "plt.title(\"Macierz błędów dla RainForest\")\n",
        "plt.xlabel(\"Predykcje\")\n",
        "plt.ylabel(\"Rzeczywiste wartości\")\n",
        "plt.show()\n",
        "\n",
        "# Wyświetl macierz błędów dla model2\n",
        "plt.figure(figsize=(8, 6))\n",
        "sns.heatmap(cm2, annot=True, fmt=\"d\", cmap=\"RdPu\")\n",
        "plt.title(\"Macierz błędów dla CNN\")\n",
        "plt.xlabel(\"Predykcje\")\n",
        "plt.ylabel(\"Rzeczywiste wartości\")\n",
        "plt.show()"
      ],
      "metadata": {
        "colab": {
          "base_uri": "https://localhost:8080/",
          "height": 1000
        },
        "id": "MiiwenQH1Jeg",
        "outputId": "b8147c41-a39c-4be0-ff8a-69639f0c6242"
      },
      "execution_count": 19,
      "outputs": [
        {
          "output_type": "display_data",
          "data": {
            "text/plain": [
              "<Figure size 800x600 with 2 Axes>"
            ],
            "image/png": "[encoded data removed]"
          },
          "metadata": {}
        },
        {
          "output_type": "display_data",
          "data": {
            "text/plain": [
              "<Figure size 800x600 with 2 Axes>"
            ],
            "image/png": "[encoded data removed]"
          },
          "metadata": {}
        }
      ]
    }
  ]
}